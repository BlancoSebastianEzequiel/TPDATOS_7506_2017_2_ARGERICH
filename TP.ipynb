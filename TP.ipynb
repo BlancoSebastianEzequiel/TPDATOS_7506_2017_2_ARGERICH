{
 "cells": [
  {
   "cell_type": "code",
   "execution_count": 4,
   "metadata": {
    "collapsed": true
   },
   "outputs": [],
   "source": [
    "%matplotlib inline\n",
    "\n",
    "import pandas as pd\n",
    "import numpy as np\n",
    "import matplotlib.pyplot as plt\n",
    "from os import listdir\n",
    "from os.path import isfile, join\n",
    "\n",
    "plt.style.use('default') # haciendo los graficos un poco mas bonitos xD\n",
    "plt.rcParams['figure.figsize'] = (5, 5)"
   ]
  },
  {
   "cell_type": "code",
   "execution_count": 5,
   "metadata": {
    "collapsed": true
   },
   "outputs": [],
   "source": [
    "#-----------------------------------------------------\n",
    "def filter(array):\n",
    "    priceUSD, usdM2, surfaceTotal = array\n",
    "    if np.isnan(surfaceTotal) or surfaceTotal == 0:\n",
    "        return np.nan\n",
    "    if not np.isnan(priceUSD) and not np.isnan(usdM2):\n",
    "        price = usdM2 * surfaceTotal\n",
    "        dif = abs(price - priceUSD)\n",
    "        if (dif/priceUSD)*100 <= 10:\n",
    "            return 1\n",
    "    return np.nan\n",
    "#-----------------------------------------------------\n",
    "def fillPrice(array):\n",
    "    priceUSD, usdM2, surfaceTotal = array\n",
    "    if np.isnan(priceUSD) and not np.isnan(usdM2):\n",
    "        return usdM2*surfaceTotal\n",
    "    return priceUSD\n",
    "#-----------------------------------------------------\n",
    "def fillM2(array):\n",
    "    priceUSD, usdM2, surfaceTotal = array\n",
    "    if not np.isnan(priceUSD) and np.isnan(usdM2):\n",
    "        return priceUSD/surfaceTotal\n",
    "    return usdM2\n",
    "#-----------------------------------------------------"
   ]
  },
  {
   "cell_type": "code",
   "execution_count": 6,
   "metadata": {},
   "outputs": [
    {
     "data": {
      "text/plain": [
       "'\\nmiPath = \"/home/sebastian/AnacondaProjects/TP/properties/\"\\nproperties = []\\nc = 0\\nfor archive in listdir(miPath):\\n    if \".csv\" in archive:\\n        print(archive)\\n        df = pd.read_csv(miPath+archive, low_memory=False)\\n        if \\'description\\' in df:\\n            df.drop(\\'description\\', axis = 1, inplace = True)\\n        if \\'image_thumbnail\\' in df:\\n            df.drop(\\'image_thumbnail\\', axis = 1, inplace = True)\\n        if \\'operation\\' in df:\\n            df.drop(\\'operation\\', axis = 1, inplace = True)\\n        df[\\'filter\\'] = df.loc[:, [\\'price_aprox_usd\\', \\'price_usd_per_m2\\', \\'surface_total_in_m2\\']].apply(filter, axis=1)\\n        df = df[~np.isnan(df[\\'filter\\'])]\\n        df.loc[:, [\\'price_aprox_usd\\']] = df.loc[:, [\\'price_aprox_usd\\', \\'price_usd_per_m2\\', \\'surface_total_in_m2\\']].apply(fillPrice, axis=1)\\n        df.loc[:, [\\'price_usd_per_m2\\']] = df.loc[:, [\\'price_aprox_usd\\', \\'price_usd_per_m2\\', \\'surface_total_in_m2\\']].apply(fillM2, axis=1)\\n        df.drop(\\'filter\\', axis = 1, inplace = True)\\n        df.to_csv(archive)\\n        properties.insert(-1, df)\\n'"
      ]
     },
     "execution_count": 6,
     "metadata": {},
     "output_type": "execute_result"
    }
   ],
   "source": [
    "\"\"\"\n",
    "miPath = \"/home/sebastian/AnacondaProjects/TP/properties/\"\n",
    "properties = []\n",
    "c = 0\n",
    "for archive in listdir(miPath):\n",
    "    if \".csv\" in archive:\n",
    "        print(archive)\n",
    "        df = pd.read_csv(miPath+archive, low_memory=False)\n",
    "        if 'description' in df:\n",
    "            df.drop('description', axis = 1, inplace = True)\n",
    "        if 'image_thumbnail' in df:\n",
    "            df.drop('image_thumbnail', axis = 1, inplace = True)\n",
    "        if 'operation' in df:\n",
    "            df.drop('operation', axis = 1, inplace = True)\n",
    "        df['filter'] = df.loc[:, ['price_aprox_usd', 'price_usd_per_m2', 'surface_total_in_m2']].apply(filter, axis=1)\n",
    "        df = df[~np.isnan(df['filter'])]\n",
    "        df.loc[:, ['price_aprox_usd']] = df.loc[:, ['price_aprox_usd', 'price_usd_per_m2', 'surface_total_in_m2']].apply(fillPrice, axis=1)\n",
    "        df.loc[:, ['price_usd_per_m2']] = df.loc[:, ['price_aprox_usd', 'price_usd_per_m2', 'surface_total_in_m2']].apply(fillM2, axis=1)\n",
    "        df.drop('filter', axis = 1, inplace = True)\n",
    "        df.to_csv(archive)\n",
    "        properties.insert(-1, df)\n",
    "\"\"\""
   ]
  },
  {
   "cell_type": "code",
   "execution_count": 7,
   "metadata": {},
   "outputs": [
    {
     "name": "stdout",
     "output_type": "stream",
     "text": [
      "properati-AR-2017-05-01-properties-sell.csv\n",
      "properati-AR-2014-01-01-properties-sell.csv\n",
      "properati-AR-2013-08-01-properties-sell.csv\n",
      "properati-AR-2015-04-01-properties-sell.csv\n",
      "properati-AR-2014-02-01-properties-sell.csv\n",
      "properati-AR-2013-09-01-properties-sell.csv\n",
      "properati-AR-2016-09-01-properties-sell.csv\n",
      "properati-AR-2017-01-01-properties-sell.csv\n",
      "properati-AR-2013-10-01-properties-sell.csv\n",
      "properati-AR-2015-05-01-properties-sell.csv\n",
      "properati-AR-2013-12-01-properties-sell.csv\n",
      "properati-AR-2014-05-01-properties-sell.csv\n",
      "properati-AR-2014-11-01-properties-sell.csv\n",
      "properati-AR-2014-09-01-properties-sell.csv\n",
      "properati-AR-2015-02-01-properties-sell.csv\n",
      "properati-AR-2016-08-01-properties-sell.csv\n",
      "properati-AR-2016-01-01-properties-sell.csv\n",
      "properati-AR-2016-11-01-properties-sell.csv\n",
      "properati-AR-2015-08-01-properties-sell.csv\n",
      "properati-AR-2017-03-01-properties-sell.csv\n",
      "properati-AR-2014-12-01-properties-sell.csv\n",
      "properati-AR-2015-12-01-properties-sell.csv\n",
      "properati-AR-2016-06-01-properties-sell.csv\n",
      "properati-AR-2015-06-01-properties-sell.csv\n",
      "properati-AR-2014-08-01-properties-sell.csv\n",
      "properati-AR-2016-04-01-properties-sell.csv\n",
      "properati-AR-2015-01-01-properties-sell.csv\n",
      "properati-AR-2014-06-01-properties-sell.csv\n",
      "properati-AR-2017-02-01-properties-sell.csv\n",
      "properati-AR-2013-11-01-properties-sell.csv\n",
      "properati-AR-2016-05-01-properties-sell.csv\n",
      "properati-AR-2015-03-01-properties-sell.csv\n",
      "properati-AR-2016-07-01-properties-sell.csv\n",
      "properati-AR-2014-07-01-properties-sell.csv\n",
      "properati-AR-2014-10-01-properties-sell.csv\n",
      "properati-AR-2015-11-01-properties-sell.csv\n",
      "properati-AR-2014-04-01-properties-sell.csv\n",
      "properati-AR-2017-06-06-properties-sell.csv\n",
      "properati-AR-2014-03-01-properties-sell.csv\n",
      "properati-AR-2017-06-01-properties-sell.csv\n",
      "properati-AR-2016-12-01-properties-sell.csv\n",
      "properati-AR-2015-10-01-properties-sell.csv\n",
      "properati-AR-2015-07-01-properties-sell.csv\n",
      "properati-AR-2015-09-01-properties-sell.csv\n",
      "properati-AR-2016-03-01-properties-sell.csv\n",
      "properati-AR-2017-04-01-properties-sell.csv\n",
      "properati-AR-2017-07-03-properties-sell.csv\n",
      "properati-AR-2016-02-01-properties-sell.csv\n",
      "properati-AR-2016-10-01-properties-sell.csv\n"
     ]
    }
   ],
   "source": [
    "miPath = \"/home/sebastian/AnacondaProjects/TP/\"\n",
    "properties = []\n",
    "c = 0\n",
    "for archive in listdir(miPath):\n",
    "    if \".csv\" in archive:\n",
    "        print(archive)\n",
    "        df = pd.read_csv(miPath+archive, low_memory=False)\n",
    "        properties.insert(-1, df)"
   ]
  },
  {
   "cell_type": "code",
   "execution_count": null,
   "metadata": {
    "collapsed": true
   },
   "outputs": [],
   "source": []
  }
 ],
 "metadata": {
  "kernelspec": {
   "display_name": "Python 2",
   "language": "python",
   "name": "python2"
  },
  "language_info": {
   "codemirror_mode": {
    "name": "ipython",
    "version": 2
   },
   "file_extension": ".py",
   "mimetype": "text/x-python",
   "name": "python",
   "nbconvert_exporter": "python",
   "pygments_lexer": "ipython2",
   "version": "2.7.13"
  }
 },
 "nbformat": 4,
 "nbformat_minor": 2
}
